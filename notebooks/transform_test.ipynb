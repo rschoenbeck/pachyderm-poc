{
 "cells": [
  {
   "cell_type": "code",
   "execution_count": 149,
   "metadata": {},
   "outputs": [],
   "source": [
    "import pandas as pd\n",
    "import numpy as np\n",
    "from sklearn.decomposition import TruncatedSVD\n",
    "\n",
    "in_path = '../docker-transform/'\n",
    "filename = in_path + 'loan_data.csv'\n",
    "out_file = 'reduced.csv'\n",
    "svd_components = 9"
   ]
  },
  {
   "cell_type": "code",
   "execution_count": 150,
   "metadata": {},
   "outputs": [],
   "source": [
    "loan_data = pd.read_csv(filename)\n",
    "selected_cols = loan_data.columns.values[2:]\n",
    "\n",
    "# SVD transform\n",
    "svd = TruncatedSVD(n_components=svd_components, random_state=7337)\n",
    "reduced = pd.DataFrame(svd.fit_transform(loan_data.loc[:,selected_cols]))\n",
    "\n",
    "# Export\n",
    "df_cols = ['LOAN_ID'] + list(reduced.columns.values)\n",
    "reduced['LOAN_ID'] = loan_data['LOAN_ID']\n",
    "reduced = reduced[df_cols]"
   ]
  },
  {
   "cell_type": "code",
   "execution_count": 151,
   "metadata": {},
   "outputs": [],
   "source": [
    "reduced.to_csv(out_file, index=False)"
   ]
  }
 ],
 "metadata": {
  "kernelspec": {
   "display_name": "Python (datasci-std-3.6.6)",
   "language": "python",
   "name": "datasci-std-3.6.6"
  },
  "language_info": {
   "codemirror_mode": {
    "name": "ipython",
    "version": 3
   },
   "file_extension": ".py",
   "mimetype": "text/x-python",
   "name": "python",
   "nbconvert_exporter": "python",
   "pygments_lexer": "ipython3",
   "version": "3.6.6"
  }
 },
 "nbformat": 4,
 "nbformat_minor": 2
}
